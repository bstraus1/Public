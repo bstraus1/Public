{
  "nbformat": 4,
  "nbformat_minor": 0,
  "metadata": {
    "colab": {
      "name": "Straus_Quiz 3.ipynb",
      "provenance": [],
      "collapsed_sections": []
    },
    "kernelspec": {
      "name": "python3",
      "display_name": "Python 3"
    }
  },
  "cells": [
    {
      "cell_type": "code",
      "metadata": {
        "id": "xQbUcTIL4n16",
        "colab_type": "code",
        "outputId": "020551a6-a42f-49d4-9c04-0d53d8cf3a90",
        "colab": {
          "base_uri": "https://localhost:8080/",
          "height": 34
        }
      },
      "source": [
        "print(\"Benjamin Straus, Email: bstraus7@jhu.edu, Github ID: bstraus1\")"
      ],
      "execution_count": 0,
      "outputs": [
        {
          "output_type": "stream",
          "text": [
            "Benjamin Straus, Email: bstraus7@jhu.edu, Github ID: bstraus1\n"
          ],
          "name": "stdout"
        }
      ]
    },
    {
      "cell_type": "markdown",
      "metadata": {
        "id": "u6q1CUjW5MfF",
        "colab_type": "text"
      },
      "source": [
        "# Question 1"
      ]
    },
    {
      "cell_type": "code",
      "metadata": {
        "id": "5TiNuzKz5Kp7",
        "colab_type": "code",
        "outputId": "bdd1dd93-bbf7-4485-8f55-33d3410936fc",
        "colab": {
          "base_uri": "https://localhost:8080/",
          "height": 308
        }
      },
      "source": [
        "# Setup\n",
        "import numpy as np\n",
        "import pandas as pd\n",
        "import seaborn as sns\n",
        "import matplotlib.pyplot as plt\n",
        "import sklearn.linear_model as lm\n",
        "import statsmodels.formula.api as smf\n",
        "import statsmodels as sm\n",
        "\n",
        "sns.set()\n",
        "\n",
        "! if [ ! -e orings.csv ]; \\\n",
        "then wget https://raw.githubusercontent.com/bcaffo/ds4bme_intro/master/data/orings.csv; \\\n",
        "fi;\n",
        "  \n",
        "dat = pd.read_csv(\"orings.csv\")\n",
        "\n",
        "\n",
        "# Part a\n",
        "plt.scatter(dat['Temperature'], dat['Total']>0)\n",
        "plt.xlabel(\"Temperature\")\n",
        "plt.ylabel(\"O-Ring Failure (failure=1)\")\n",
        "\n",
        "xdata = dat['Temperature'].values\n",
        "ydata = dat['Total']>0\n",
        "\n",
        "# Part b\n",
        "lr = lm.LogisticRegression(fit_intercept=True, solver='lbfgs') # Setup model\n",
        "fit = lr.fit(xdata.reshape(-1,1), ydata) # fit the data to the model\n",
        "\n",
        "beta0, beta1 = [fit.intercept_[0], fit.coef_[0][0]]\n",
        "[beta0, beta1]\n",
        "\n",
        "# Part c\n",
        "n = 1000\n",
        "xplot = np.linspace(53,81, n)\n",
        "eta = beta0 + beta1 * xplot\n",
        "p = 1 / (1 + np.exp(-eta))\n",
        "sns.lineplot(xplot, p)\n",
        "plt.legend(['Logistic Fit','Data' ])\n",
        "\n",
        "# Part d\n",
        "x_test = np.asarray(74)\n",
        "# yhat_test = fit.predict(x_test.reshape(-1,1))\n",
        "eta = beta0 + beta1 * x_test\n",
        "p = 1 / (1 + np.exp(-eta))\n",
        "print(\"The estimated probability of failure from the model for a temperature of 74 degrees is {}\".format(p))\n"
      ],
      "execution_count": 58,
      "outputs": [
        {
          "output_type": "stream",
          "text": [
            "The estimated probability of failure from the model for a temperature of 74 degrees is 0.107061826026118\n"
          ],
          "name": "stdout"
        },
        {
          "output_type": "display_data",
          "data": {
            "image/png": "[encoded data removed]",
            "text/plain": [
              "<Figure size 432x288 with 1 Axes>"
            ]
          },
          "metadata": {
            "tags": []
          }
        }
      ]
    },
    {
      "cell_type": "markdown",
      "metadata": {
        "id": "CBa45aKlJREV",
        "colab_type": "text"
      },
      "source": [
        "# Question 2"
      ]
    },
    {
      "cell_type": "markdown",
      "metadata": {
        "id": "YSDrIO8UJvAw",
        "colab_type": "text"
      },
      "source": [
        "![Quiz 3 Question 2](https://github.com/bstraus1/Public/blob/master/Quiz%203%20Q%202.jpg?raw=true)"
      ]
    },
    {
      "cell_type": "markdown",
      "metadata": {
        "id": "PzMGUuRyLfFv",
        "colab_type": "text"
      },
      "source": [
        "# Question 3"
      ]
    },
    {
      "cell_type": "code",
      "metadata": {
        "id": "smuJ25BgRmhR",
        "colab_type": "code",
        "outputId": "41a604ad-bbad-43cb-b888-6df966d8cec0",
        "colab": {
          "base_uri": "https://localhost:8080/",
          "height": 430
        }
      },
      "source": [
        "# I will perform some regression to predict number of accidents for an airline based on the amount flown (in seat*km/week)\n",
        "import numpy as np\n",
        "import pandas as pd\n",
        "import seaborn as sns\n",
        "import matplotlib.pyplot as plt\n",
        "import sklearn.linear_model as lm\n",
        "import statsmodels.formula.api as smf\n",
        "import statsmodels as sm\n",
        "\n",
        "sns.set()\n",
        "\n",
        "! if [ ! -e airline-safety.csv ]; \\\n",
        "then wget https://raw.githubusercontent.com/fivethirtyeight/data/master/airline-safety/airline-safety.csv; \\\n",
        "fi;\n",
        "  \n",
        "dat = pd.read_csv(\"airline-safety.csv\")\n",
        "dat.head(10)"
      ],
      "execution_count": 53,
      "outputs": [
        {
          "output_type": "execute_result",
          "data": {
            "text/html": [
              "<div>\n",
              "<style scoped>\n",
              "    .dataframe tbody tr th:only-of-type {\n",
              "        vertical-align: middle;\n",
              "    }\n",
              "\n",
              "    .dataframe tbody tr th {\n",
              "        vertical-align: top;\n",
              "    }\n",
              "\n",
              "    .dataframe thead th {\n",
              "        text-align: right;\n",
              "    }\n",
              "</style>\n",
              "<table border=\"1\" class=\"dataframe\">\n",
              "  <thead>\n",
              "    <tr style=\"text-align: right;\">\n",
              "      <th></th>\n",
              "      <th>airline</th>\n",
              "      <th>avail_seat_km_per_week</th>\n",
              "      <th>incidents_85_99</th>\n",
              "      <th>fatal_accidents_85_99</th>\n",
              "      <th>fatalities_85_99</th>\n",
              "      <th>incidents_00_14</th>\n",
              "      <th>fatal_accidents_00_14</th>\n",
              "      <th>fatalities_00_14</th>\n",
              "    </tr>\n",
              "  </thead>\n",
              "  <tbody>\n",
              "    <tr>\n",
              "      <th>0</th>\n",
              "      <td>Aer Lingus</td>\n",
              "      <td>320906734</td>\n",
              "      <td>2</td>\n",
              "      <td>0</td>\n",
              "      <td>0</td>\n",
              "      <td>0</td>\n",
              "      <td>0</td>\n",
              "      <td>0</td>\n",
              "    </tr>\n",
              "    <tr>\n",
              "      <th>1</th>\n",
              "      <td>Aeroflot*</td>\n",
              "      <td>1197672318</td>\n",
              "      <td>76</td>\n",
              "      <td>14</td>\n",
              "      <td>128</td>\n",
              "      <td>6</td>\n",
              "      <td>1</td>\n",
              "      <td>88</td>\n",
              "    </tr>\n",
              "    <tr>\n",
              "      <th>2</th>\n",
              "      <td>Aerolineas Argentinas</td>\n",
              "      <td>385803648</td>\n",
              "      <td>6</td>\n",
              "      <td>0</td>\n",
              "      <td>0</td>\n",
              "      <td>1</td>\n",
              "      <td>0</td>\n",
              "      <td>0</td>\n",
              "    </tr>\n",
              "    <tr>\n",
              "      <th>3</th>\n",
              "      <td>Aeromexico*</td>\n",
              "      <td>596871813</td>\n",
              "      <td>3</td>\n",
              "      <td>1</td>\n",
              "      <td>64</td>\n",
              "      <td>5</td>\n",
              "      <td>0</td>\n",
              "      <td>0</td>\n",
              "    </tr>\n",
              "    <tr>\n",
              "      <th>4</th>\n",
              "      <td>Air Canada</td>\n",
              "      <td>1865253802</td>\n",
              "      <td>2</td>\n",
              "      <td>0</td>\n",
              "      <td>0</td>\n",
              "      <td>2</td>\n",
              "      <td>0</td>\n",
              "      <td>0</td>\n",
              "    </tr>\n",
              "    <tr>\n",
              "      <th>5</th>\n",
              "      <td>Air France</td>\n",
              "      <td>3004002661</td>\n",
              "      <td>14</td>\n",
              "      <td>4</td>\n",
              "      <td>79</td>\n",
              "      <td>6</td>\n",
              "      <td>2</td>\n",
              "      <td>337</td>\n",
              "    </tr>\n",
              "    <tr>\n",
              "      <th>6</th>\n",
              "      <td>Air India*</td>\n",
              "      <td>869253552</td>\n",
              "      <td>2</td>\n",
              "      <td>1</td>\n",
              "      <td>329</td>\n",
              "      <td>4</td>\n",
              "      <td>1</td>\n",
              "      <td>158</td>\n",
              "    </tr>\n",
              "    <tr>\n",
              "      <th>7</th>\n",
              "      <td>Air New Zealand*</td>\n",
              "      <td>710174817</td>\n",
              "      <td>3</td>\n",
              "      <td>0</td>\n",
              "      <td>0</td>\n",
              "      <td>5</td>\n",
              "      <td>1</td>\n",
              "      <td>7</td>\n",
              "    </tr>\n",
              "    <tr>\n",
              "      <th>8</th>\n",
              "      <td>Alaska Airlines*</td>\n",
              "      <td>965346773</td>\n",
              "      <td>5</td>\n",
              "      <td>0</td>\n",
              "      <td>0</td>\n",
              "      <td>5</td>\n",
              "      <td>1</td>\n",
              "      <td>88</td>\n",
              "    </tr>\n",
              "    <tr>\n",
              "      <th>9</th>\n",
              "      <td>Alitalia</td>\n",
              "      <td>698012498</td>\n",
              "      <td>7</td>\n",
              "      <td>2</td>\n",
              "      <td>50</td>\n",
              "      <td>4</td>\n",
              "      <td>0</td>\n",
              "      <td>0</td>\n",
              "    </tr>\n",
              "  </tbody>\n",
              "</table>\n",
              "</div>"
            ],
            "text/plain": [
              "                 airline  ...  fatalities_00_14\n",
              "0             Aer Lingus  ...                 0\n",
              "1              Aeroflot*  ...                88\n",
              "2  Aerolineas Argentinas  ...                 0\n",
              "3            Aeromexico*  ...                 0\n",
              "4             Air Canada  ...                 0\n",
              "5             Air France  ...               337\n",
              "6             Air India*  ...               158\n",
              "7       Air New Zealand*  ...                 7\n",
              "8       Alaska Airlines*  ...                88\n",
              "9               Alitalia  ...                 0\n",
              "\n",
              "[10 rows x 8 columns]"
            ]
          },
          "metadata": {
            "tags": []
          },
          "execution_count": 53
        }
      ]
    }
  ]
}